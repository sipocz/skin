{
  "nbformat": 4,
  "nbformat_minor": 0,
  "metadata": {
    "colab": {
      "name": "Generate_Desc.ipynb",
      "provenance": [],
      "include_colab_link": true
    },
    "kernelspec": {
      "name": "python3",
      "display_name": "Python 3"
    }
  },
  "cells": [
    {
      "cell_type": "markdown",
      "metadata": {
        "id": "view-in-github",
        "colab_type": "text"
      },
      "source": [
        "<a href=\"https://colab.research.google.com/github/sipocz/skin/blob/master/Generate_Desc.ipynb\" target=\"_parent\"><img src=\"https://colab.research.google.com/assets/colab-badge.svg\" alt=\"Open In Colab\"/></a>"
      ]
    },
    {
      "cell_type": "code",
      "metadata": {
        "id": "mC_nKKOKRcJL",
        "colab_type": "code",
        "colab": {}
      },
      "source": [
        "from google.colab import drive\n",
        "drive.mount('/content/drive',force_remount=True)"
      ],
      "execution_count": 0,
      "outputs": []
    },
    {
      "cell_type": "code",
      "metadata": {
        "id": "Qut3oNAER5FZ",
        "colab_type": "code",
        "colab": {}
      },
      "source": [
        "openfile=open('/content/drive/My Drive/skin/lista.txt')\n",
        "i=0\n",
        "pictable=[]\n",
        "for line in openfile:\n",
        "    i+=1\n",
        "    line=line.strip()\n",
        "    picdata=line.split(\",\")\n",
        "    pictable.append(picdata)\n",
        "    #print(i,\" \")\n"
      ],
      "execution_count": 0,
      "outputs": []
    },
    {
      "cell_type": "code",
      "metadata": {
        "id": "1V-fE0JzU0_U",
        "colab_type": "code",
        "colab": {}
      },
      "source": [
        "print(pictable[0]) \n",
        "print(pictable[1]) \n"
      ],
      "execution_count": 0,
      "outputs": []
    },
    {
      "cell_type": "code",
      "metadata": {
        "id": "ZpAAhrV0XVtb",
        "colab_type": "code",
        "colab": {}
      },
      "source": [
        "import urllib.request\n",
        "fname0=\"/content/drive/My Drive/skin/desc/\"\n",
        "i=0\n",
        "for rec in pictable:\n",
        "    fname=fname0+rec[0]+\".txt\"\n",
        "    txtID=rec[0]\n",
        "    url=\"https://isic-archive.com/api/v1/image/\"+txtID\n",
        "    if i % 100 ==0:\n",
        "        print(i,\"..\",url,\"..\",fname)\n",
        "    urllib.request.urlretrieve(url,fname)\n",
        "    i=i+1\n",
        "\n",
        "\n",
        "\n"
      ],
      "execution_count": 0,
      "outputs": []
    }
  ]
}