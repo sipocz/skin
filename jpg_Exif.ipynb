{
  "nbformat": 4,
  "nbformat_minor": 0,
  "metadata": {
    "colab": {
      "name": "jpg_Exif.ipynb",
      "provenance": [],
      "collapsed_sections": [],
      "include_colab_link": true
    },
    "kernelspec": {
      "name": "python3",
      "display_name": "Python 3"
    }
  },
  "cells": [
    {
      "cell_type": "markdown",
      "metadata": {
        "id": "view-in-github",
        "colab_type": "text"
      },
      "source": [
        "<a href=\"https://colab.research.google.com/github/sipocz/skin/blob/master/jpg_Exif.ipynb\" target=\"_parent\"><img src=\"https://colab.research.google.com/assets/colab-badge.svg\" alt=\"Open In Colab\"/></a>"
      ]
    },
    {
      "cell_type": "code",
      "metadata": {
        "id": "kGzVBchVluC5",
        "colab_type": "code",
        "colab": {}
      },
      "source": [
        "from PIL import Image"
      ],
      "execution_count": 0,
      "outputs": []
    },
    {
      "cell_type": "code",
      "metadata": {
        "id": "NESwrqzdl0Vi",
        "colab_type": "code",
        "colab": {
          "base_uri": "https://localhost:8080/",
          "height": 34
        },
        "outputId": "50e87434-5c96-489e-bf1b-8e12b1db1b97"
      },
      "source": [
        "from google.colab import drive\n",
        "drive.mount('/content/drive',force_remount=True)"
      ],
      "execution_count": 16,
      "outputs": [
        {
          "output_type": "stream",
          "text": [
            "Mounted at /content/drive\n"
          ],
          "name": "stdout"
        }
      ]
    },
    {
      "cell_type": "code",
      "metadata": {
        "id": "vKySxx99lvFr",
        "colab_type": "code",
        "colab": {
          "base_uri": "https://localhost:8080/",
          "height": 54
        },
        "outputId": "7a20c534-6283-4e5f-f6ee-40b7fefa18bb"
      },
      "source": [
        "\n",
        "\n",
        "def get_exif(filename):\n",
        "    image = Image.open(filename)\n",
        "    image.verify()\n",
        "    return image._getexif()\n",
        "\n",
        "fname=\"/content/drive/My Drive/skin/a.jpg\"\n",
        "\n",
        "exif = get_exif(fname)\n",
        "print(exif)"
      ],
      "execution_count": 17,
      "outputs": [
        {
          "output_type": "stream",
          "text": [
            "{256: 3648, 257: 1824, 258: (8, 8, 8), 296: 2, 34665: 292, 41995: b'ipp\\x00', 270: 'dav_soft', 271: 'HUAWEI', 272: 'CLT-L29', 305: 'CLT-L29 9.0.0.286(C432E5R1P9)', 274: 0, 306: '2019:07:15 09:08:40', 531: 1, 282: (72, 1), 283: (72, 1), 36864: b'0210', 37121: b'\\x01\\x02\\x03\\x00', 37122: (95, 100), 36867: '2019:07:15 09:08:40', 36868: '2019:07:15 09:08:40', 37377: (298973, 10000), 37378: (169, 100), 37379: (0, 1), 37380: (0, 10), 37381: (169, 100), 37383: 5, 37384: 1, 37385: 24, 37386: (3950, 1000), 40961: 1, 40962: 3648, 37520: '075314', 37521: '075314', 37522: '075314', 40963: 1824, 41996: 0, 41495: 2, 41728: b'\\x03', 33434: (2048000, 1000000000), 40965: 8460, 33437: (180, 100), 41729: b'\\x01', 34850: 2, 41985: 1, 34855: 50, 41986: 0, 40960: b'0100', 41987: 0, 41988: (100, 100), 41989: 27, 41990: 0, 41991: 0, 41992: 0, 41993: 0, 41994: 0, 37500: b'Auto\\x00'}\n"
          ],
          "name": "stdout"
        }
      ]
    },
    {
      "cell_type": "code",
      "metadata": {
        "id": "9VCixKv3_x1U",
        "colab_type": "code",
        "colab": {
          "base_uri": "https://localhost:8080/",
          "height": 51
        },
        "outputId": "fd75c322-90c9-40c4-8e4b-211bd3add407"
      },
      "source": [
        "print(hex(37378))\n",
        "print(hex(37379))\n"
      ],
      "execution_count": 18,
      "outputs": [
        {
          "output_type": "stream",
          "text": [
            "0x9202\n",
            "0x9203\n"
          ],
          "name": "stdout"
        }
      ]
    },
    {
      "cell_type": "code",
      "metadata": {
        "id": "3gXLKIk8A5D3",
        "colab_type": "code",
        "colab": {}
      },
      "source": [
        "image=Image.open(fname)\n",
        "image.show()"
      ],
      "execution_count": 0,
      "outputs": []
    }
  ]
}