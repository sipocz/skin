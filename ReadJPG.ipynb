{
  "nbformat": 4,
  "nbformat_minor": 0,
  "metadata": {
    "colab": {
      "name": "ReadJPG.ipynb",
      "provenance": [],
      "include_colab_link": true
    },
    "kernelspec": {
      "name": "python3",
      "display_name": "Python 3"
    }
  },
  "cells": [
    {
      "cell_type": "markdown",
      "metadata": {
        "id": "view-in-github",
        "colab_type": "text"
      },
      "source": [
        "<a href=\"https://colab.research.google.com/github/sipocz/skin/blob/master/ReadJPG.ipynb\" target=\"_parent\"><img src=\"https://colab.research.google.com/assets/colab-badge.svg\" alt=\"Open In Colab\"/></a>"
      ]
    },
    {
      "cell_type": "code",
      "metadata": {
        "id": "mC_nKKOKRcJL",
        "colab_type": "code",
        "colab": {
          "base_uri": "https://localhost:8080/",
          "height": 34
        },
        "outputId": "1c1bdcc0-5039-4f5e-a498-7be24061ae0a"
      },
      "source": [
        "from google.colab import drive\n",
        "drive.mount('/content/drive',force_remount=True)"
      ],
      "execution_count": 16,
      "outputs": [
        {
          "output_type": "stream",
          "text": [
            "Mounted at /content/drive\n"
          ],
          "name": "stdout"
        }
      ]
    },
    {
      "cell_type": "markdown",
      "metadata": {
        "id": "yG1Tqe4wXKq2",
        "colab_type": "text"
      },
      "source": [
        ""
      ]
    },
    {
      "cell_type": "code",
      "metadata": {
        "id": "Qut3oNAER5FZ",
        "colab_type": "code",
        "colab": {}
      },
      "source": [
        "openfile=open('/content/drive/My Drive/skin/lista.txt')\n",
        "i=0\n",
        "pictable=[]\n",
        "for line in openfile:\n",
        "    i+=1\n",
        "    line=line.strip()\n",
        "    picdata=line.split(\",\")\n",
        "    pictable.append(picdata)\n",
        "    #print(i,\" \")\n"
      ],
      "execution_count": 0,
      "outputs": []
    },
    {
      "cell_type": "code",
      "metadata": {
        "id": "1V-fE0JzU0_U",
        "colab_type": "code",
        "colab": {
          "base_uri": "https://localhost:8080/",
          "height": 51
        },
        "outputId": "6b5c2a19-cba9-4f06-8a26-88eb67c9e530"
      },
      "source": [
        "print(pictable[0]) \n",
        "print(pictable[1]) \n"
      ],
      "execution_count": 32,
      "outputs": [
        {
          "output_type": "stream",
          "text": [
            "['5436e3abbae478396759f0cf', 'ISIC_0000000']\n",
            "['5436e3acbae478396759f0d1', 'ISIC_0000001']\n"
          ],
          "name": "stdout"
        }
      ]
    },
    {
      "cell_type": "code",
      "metadata": {
        "id": "ZpAAhrV0XVtb",
        "colab_type": "code",
        "colab": {}
      },
      "source": [
        "import urllib.request\n",
        "fname0=\"/content/drive/My Drive/skin/jpg/\"\n",
        "i=0\n",
        "for rec in pictable:\n",
        "    fname=fname0+rec[0]\n",
        "    jpgID=rec[0]\n",
        "    url=\"https://isic-archive.com/api/v1/image/\"+jpgID+\"/download?contentDisposition=inline\"\n",
        "    print(url)\n",
        "    urllib.request.urlretrieve(url,fname)\n",
        "    i=i+1\n",
        "\n",
        "\n",
        "\n"
      ],
      "execution_count": 0,
      "outputs": []
    }
  ]
}