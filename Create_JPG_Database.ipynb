{
  "nbformat": 4,
  "nbformat_minor": 0,
  "metadata": {
    "colab": {
      "name": "Create_JPG_Database.ipynb",
      "provenance": [],
      "include_colab_link": true
    },
    "kernelspec": {
      "name": "python3",
      "display_name": "Python 3"
    }
  },
  "cells": [
    {
      "cell_type": "markdown",
      "metadata": {
        "id": "view-in-github",
        "colab_type": "text"
      },
      "source": [
        "<a href=\"https://colab.research.google.com/github/sipocz/skin/blob/master/Create_JPG_Database.ipynb\" target=\"_parent\"><img src=\"https://colab.research.google.com/assets/colab-badge.svg\" alt=\"Open In Colab\"/></a>"
      ]
    },
    {
      "cell_type": "code",
      "metadata": {
        "id": "mC_nKKOKRcJL",
        "colab_type": "code",
        "outputId": "a42780b0-977a-41b5-97f9-98dc62c23ee8",
        "colab": {
          "base_uri": "https://localhost:8080/",
          "height": 34
        }
      },
      "source": [
        "from google.colab import drive\n",
        "drive.mount('/content/drive',force_remount=True)"
      ],
      "execution_count": 2,
      "outputs": [
        {
          "output_type": "stream",
          "text": [
            "Mounted at /content/drive\n"
          ],
          "name": "stdout"
        }
      ]
    },
    {
      "cell_type": "code",
      "metadata": {
        "id": "Qut3oNAER5FZ",
        "colab_type": "code",
        "colab": {}
      },
      "source": [
        "openfile=open('/content/drive/My Drive/skin/lista.txt')\n",
        "i=0\n",
        "pictable=[]\n",
        "for line in openfile:\n",
        "    i+=1\n",
        "    line=line.strip()\n",
        "    picdata=line.split(\",\")\n",
        "    pictable.append(picdata)\n",
        "    #print(i,\" \")\n"
      ],
      "execution_count": 0,
      "outputs": []
    },
    {
      "cell_type": "code",
      "metadata": {
        "id": "1V-fE0JzU0_U",
        "colab_type": "code",
        "outputId": "fa30e88e-bbc4-4bb9-e43e-512eaf1f4912",
        "colab": {
          "base_uri": "https://localhost:8080/",
          "height": 51
        }
      },
      "source": [
        "print(pictable[0]) \n",
        "print(pictable[1]) \n"
      ],
      "execution_count": 4,
      "outputs": [
        {
          "output_type": "stream",
          "text": [
            "['5436e3abbae478396759f0cf', 'ISIC_0000000']\n",
            "['5436e3acbae478396759f0d1', 'ISIC_0000001']\n"
          ],
          "name": "stdout"
        }
      ]
    },
    {
      "cell_type": "code",
      "metadata": {
        "id": "ZpAAhrV0XVtb",
        "colab_type": "code",
        "colab": {
          "base_uri": "https://localhost:8080/",
          "height": 1000
        },
        "outputId": "82e9a317-923d-4f5c-f9d7-9dce1629cde5"
      },
      "source": [
        "import urllib.request\n",
        "import json\n",
        "\n",
        "piclist=\"/content/drive/My Drive/skin/jpg/\"\n",
        "fname0=\"/content/drive/My Drive/skin/desc/\"\n",
        "i=0\n",
        "alldata=[]\n",
        "for rec in pictable:\n",
        "    #print(i)\n",
        "    fname=fname0+rec[0]+\".txt\"\n",
        "    txtID=rec[0]\n",
        "    jsonfile=open(fname)\n",
        "    #print(jsonfile)\n",
        "    a=jsonfile.read()\n",
        "    #print(a)\n",
        "    jsontab=json.loads(\"[\"+a+\"]\")\n",
        "    #print(jsontab)\n",
        "    clinical=jsontab[0]['meta']['clinical']\n",
        "\n",
        "    diag=jsontab[0]['meta']['clinical']['diagnosis']\n",
        "    alldata.append(clinical)\n",
        "    confirm=jsontab[0]['meta']['clinical']['diagnosis_confirm_type']\n",
        "    melanocytic=jsontab[0]['meta']['clinical']['melanocytic']\n",
        "\n",
        "    #print(\"'id':'\"+txtID+\"','diag':\",diag,\"'confirm':\",confirm,\"'melanocytic':\",melanocytic)\n",
        "\n",
        "    i+=1\n",
        "    if i%100==0:\n",
        "        print(i,clinical)\n",
        "\n",
        "        \n",
        "    \n",
        "\n",
        "\n"
      ],
      "execution_count": 0,
      "outputs": [
        {
          "output_type": "stream",
          "text": [
            "100 {'age_approx': None, 'benign_malignant': 'benign', 'diagnosis': 'nevus', 'diagnosis_confirm_type': None, 'melanocytic': True, 'sex': None}\n",
            "200 {'age_approx': 20, 'anatom_site_general': 'upper extremity', 'benign_malignant': 'benign', 'diagnosis': 'nevus', 'diagnosis_confirm_type': None, 'melanocytic': True, 'sex': 'male'}\n",
            "300 {'age_approx': 75, 'anatom_site_general': 'head/neck', 'benign_malignant': 'malignant', 'diagnosis': 'melanoma', 'diagnosis_confirm_type': 'histopathology', 'melanocytic': True, 'sex': 'male'}\n",
            "400 {'age_approx': None, 'benign_malignant': 'malignant', 'diagnosis': 'melanoma', 'diagnosis_confirm_type': 'histopathology', 'melanocytic': True, 'sex': None}\n",
            "500 {'age_approx': None, 'anatom_site_general': 'lateral torso', 'benign_malignant': 'benign', 'diagnosis': 'nevus', 'diagnosis_confirm_type': None, 'melanocytic': True, 'sex': None}\n",
            "600 {'age_approx': 15, 'benign_malignant': 'benign', 'diagnosis': 'nevus', 'diagnosis_confirm_type': 'single image expert consensus', 'melanocytic': True, 'sex': 'female'}\n",
            "700 {'age_approx': 15, 'benign_malignant': 'benign', 'diagnosis': 'nevus', 'diagnosis_confirm_type': 'single image expert consensus', 'melanocytic': True, 'sex': 'female'}\n",
            "800 {'age_approx': 15, 'benign_malignant': 'benign', 'diagnosis': 'nevus', 'diagnosis_confirm_type': 'single image expert consensus', 'melanocytic': True, 'sex': 'female'}\n",
            "900 {'age_approx': 15, 'benign_malignant': 'benign', 'diagnosis': 'nevus', 'diagnosis_confirm_type': 'single image expert consensus', 'melanocytic': True, 'sex': 'female'}\n",
            "1000 {'age_approx': 15, 'benign_malignant': 'benign', 'diagnosis': 'nevus', 'diagnosis_confirm_type': 'single image expert consensus', 'melanocytic': True, 'sex': 'female'}\n",
            "1100 {'age_approx': 15, 'benign_malignant': 'benign', 'diagnosis': 'nevus', 'diagnosis_confirm_type': 'single image expert consensus', 'melanocytic': True, 'sex': 'male'}\n",
            "1200 {'age_approx': 15, 'benign_malignant': 'benign', 'diagnosis': 'nevus', 'diagnosis_confirm_type': 'single image expert consensus', 'melanocytic': True, 'sex': 'female'}\n",
            "1300 {'age_approx': 15, 'benign_malignant': 'benign', 'diagnosis': 'nevus', 'diagnosis_confirm_type': 'single image expert consensus', 'melanocytic': True, 'sex': 'male'}\n",
            "1400 {'age_approx': 15, 'benign_malignant': 'benign', 'diagnosis': 'nevus', 'diagnosis_confirm_type': 'single image expert consensus', 'melanocytic': True, 'sex': 'female'}\n",
            "1500 {'age_approx': 15, 'benign_malignant': 'benign', 'diagnosis': 'nevus', 'diagnosis_confirm_type': 'single image expert consensus', 'melanocytic': True, 'sex': 'female'}\n",
            "1600 {'age_approx': 15, 'benign_malignant': 'benign', 'diagnosis': 'nevus', 'diagnosis_confirm_type': 'single image expert consensus', 'melanocytic': True, 'sex': 'male'}\n",
            "1700 {'age_approx': 15, 'benign_malignant': 'benign', 'diagnosis': 'nevus', 'diagnosis_confirm_type': 'single image expert consensus', 'melanocytic': True, 'sex': 'female'}\n",
            "1800 {'age_approx': 15, 'benign_malignant': 'benign', 'diagnosis': 'nevus', 'diagnosis_confirm_type': 'single image expert consensus', 'melanocytic': True, 'sex': 'female'}\n",
            "1900 {'age_approx': 15, 'benign_malignant': 'benign', 'diagnosis': 'nevus', 'diagnosis_confirm_type': 'single image expert consensus', 'melanocytic': True, 'sex': 'male'}\n",
            "2000 {'age_approx': 15, 'benign_malignant': 'benign', 'diagnosis': 'nevus', 'diagnosis_confirm_type': 'single image expert consensus', 'melanocytic': True, 'sex': 'female'}\n",
            "2100 {'age_approx': 15, 'benign_malignant': 'benign', 'diagnosis': 'nevus', 'diagnosis_confirm_type': 'single image expert consensus', 'melanocytic': True, 'sex': 'male'}\n",
            "2200 {'age_approx': 15, 'benign_malignant': 'benign', 'diagnosis': 'nevus', 'diagnosis_confirm_type': 'single image expert consensus', 'melanocytic': True, 'sex': 'male'}\n",
            "2300 {'age_approx': 10, 'benign_malignant': 'benign', 'diagnosis': 'nevus', 'diagnosis_confirm_type': 'single image expert consensus', 'melanocytic': True, 'sex': 'female'}\n",
            "2400 {'age_approx': 10, 'benign_malignant': 'benign', 'diagnosis': 'nevus', 'diagnosis_confirm_type': 'single image expert consensus', 'melanocytic': True, 'sex': 'female'}\n",
            "2500 {'age_approx': 15, 'benign_malignant': 'benign', 'diagnosis': 'nevus', 'diagnosis_confirm_type': 'single image expert consensus', 'melanocytic': True, 'sex': 'female'}\n",
            "2600 {'age_approx': 15, 'benign_malignant': 'benign', 'diagnosis': 'nevus', 'diagnosis_confirm_type': 'single image expert consensus', 'melanocytic': True, 'sex': 'male'}\n",
            "2700 {'age_approx': 15, 'benign_malignant': 'benign', 'diagnosis': 'nevus', 'diagnosis_confirm_type': 'single image expert consensus', 'melanocytic': True, 'sex': 'female'}\n",
            "2800 {'age_approx': 15, 'benign_malignant': 'benign', 'diagnosis': 'nevus', 'diagnosis_confirm_type': 'single image expert consensus', 'melanocytic': True, 'sex': 'male'}\n",
            "2900 {'age_approx': 15, 'benign_malignant': 'benign', 'diagnosis': 'nevus', 'diagnosis_confirm_type': 'single image expert consensus', 'melanocytic': True, 'sex': 'male'}\n",
            "3000 {'age_approx': 15, 'benign_malignant': 'benign', 'diagnosis': 'nevus', 'diagnosis_confirm_type': 'single image expert consensus', 'melanocytic': True, 'sex': 'female'}\n",
            "3100 {'age_approx': 15, 'benign_malignant': 'benign', 'diagnosis': 'nevus', 'diagnosis_confirm_type': 'single image expert consensus', 'melanocytic': True, 'sex': 'male'}\n",
            "3200 {'age_approx': 15, 'benign_malignant': 'benign', 'diagnosis': 'nevus', 'diagnosis_confirm_type': 'single image expert consensus', 'melanocytic': True, 'sex': 'male'}\n",
            "3300 {'age_approx': 15, 'benign_malignant': 'benign', 'diagnosis': 'nevus', 'diagnosis_confirm_type': 'single image expert consensus', 'melanocytic': True, 'sex': 'male'}\n",
            "3400 {'age_approx': 15, 'benign_malignant': 'benign', 'diagnosis': 'nevus', 'diagnosis_confirm_type': 'single image expert consensus', 'melanocytic': True, 'sex': 'male'}\n",
            "3500 {'age_approx': 15, 'benign_malignant': 'benign', 'diagnosis': 'nevus', 'diagnosis_confirm_type': 'single image expert consensus', 'melanocytic': True, 'sex': 'female'}\n",
            "3600 {'age_approx': 15, 'benign_malignant': 'benign', 'diagnosis': 'nevus', 'diagnosis_confirm_type': 'single image expert consensus', 'melanocytic': True, 'sex': 'female'}\n",
            "3700 {'age_approx': 15, 'benign_malignant': 'benign', 'diagnosis': 'nevus', 'diagnosis_confirm_type': 'single image expert consensus', 'melanocytic': True, 'sex': 'female'}\n",
            "3800 {'age_approx': 10, 'benign_malignant': 'benign', 'diagnosis': 'nevus', 'diagnosis_confirm_type': 'single image expert consensus', 'melanocytic': True, 'sex': 'male'}\n",
            "3900 {'age_approx': 15, 'benign_malignant': 'benign', 'diagnosis': 'nevus', 'diagnosis_confirm_type': 'single image expert consensus', 'melanocytic': True, 'sex': 'male'}\n",
            "4000 {'age_approx': 15, 'benign_malignant': 'benign', 'diagnosis': 'nevus', 'diagnosis_confirm_type': 'single image expert consensus', 'melanocytic': True, 'sex': 'male'}\n",
            "4100 {'age_approx': 15, 'benign_malignant': 'benign', 'diagnosis': 'nevus', 'diagnosis_confirm_type': 'single image expert consensus', 'melanocytic': True, 'sex': 'male'}\n",
            "4200 {'age_approx': 15, 'benign_malignant': 'benign', 'diagnosis': 'nevus', 'diagnosis_confirm_type': 'single image expert consensus', 'melanocytic': True, 'sex': 'female'}\n",
            "4300 {'age_approx': 15, 'benign_malignant': 'benign', 'diagnosis': 'nevus', 'diagnosis_confirm_type': 'single image expert consensus', 'melanocytic': True, 'sex': 'female'}\n",
            "4400 {'age_approx': 15, 'benign_malignant': 'benign', 'diagnosis': 'nevus', 'diagnosis_confirm_type': 'single image expert consensus', 'melanocytic': True, 'sex': 'female'}\n",
            "4500 {'age_approx': 10, 'benign_malignant': 'benign', 'diagnosis': 'nevus', 'diagnosis_confirm_type': 'single image expert consensus', 'melanocytic': True, 'sex': 'male'}\n",
            "4600 {'age_approx': 15, 'benign_malignant': 'benign', 'diagnosis': 'nevus', 'diagnosis_confirm_type': 'single image expert consensus', 'melanocytic': True, 'sex': 'female'}\n",
            "4700 {'age_approx': 10, 'benign_malignant': 'benign', 'diagnosis': 'nevus', 'diagnosis_confirm_type': 'single image expert consensus', 'melanocytic': True, 'sex': 'male'}\n",
            "4800 {'age_approx': 10, 'benign_malignant': 'benign', 'diagnosis': 'nevus', 'diagnosis_confirm_type': 'single image expert consensus', 'melanocytic': True, 'sex': 'male'}\n",
            "4900 {'age_approx': 15, 'benign_malignant': 'benign', 'diagnosis': 'nevus', 'diagnosis_confirm_type': 'single image expert consensus', 'melanocytic': True, 'sex': 'female'}\n",
            "5000 {'age_approx': 15, 'benign_malignant': 'benign', 'diagnosis': 'nevus', 'diagnosis_confirm_type': 'single image expert consensus', 'melanocytic': True, 'sex': 'female'}\n",
            "5100 {'age_approx': 10, 'benign_malignant': 'benign', 'diagnosis': 'nevus', 'diagnosis_confirm_type': 'single image expert consensus', 'melanocytic': True, 'sex': 'female'}\n",
            "5200 {'age_approx': 15, 'benign_malignant': 'benign', 'diagnosis': 'nevus', 'diagnosis_confirm_type': 'single image expert consensus', 'melanocytic': True, 'sex': 'male'}\n",
            "5300 {'age_approx': 15, 'benign_malignant': 'benign', 'diagnosis': 'nevus', 'diagnosis_confirm_type': 'single image expert consensus', 'melanocytic': True, 'sex': 'male'}\n",
            "5400 {'age_approx': 15, 'benign_malignant': 'benign', 'diagnosis': 'nevus', 'diagnosis_confirm_type': 'single image expert consensus', 'melanocytic': True, 'sex': 'female'}\n",
            "5500 {'age_approx': 10, 'benign_malignant': 'benign', 'diagnosis': 'nevus', 'diagnosis_confirm_type': 'single image expert consensus', 'melanocytic': True, 'sex': 'male'}\n",
            "5600 {'age_approx': 15, 'benign_malignant': 'benign', 'diagnosis': 'nevus', 'diagnosis_confirm_type': 'single image expert consensus', 'melanocytic': True, 'sex': 'male'}\n",
            "5700 {'age_approx': 15, 'benign_malignant': 'benign', 'diagnosis': 'nevus', 'diagnosis_confirm_type': 'single image expert consensus', 'melanocytic': True, 'sex': 'female'}\n",
            "5800 {'age_approx': 15, 'benign_malignant': 'benign', 'diagnosis': 'nevus', 'diagnosis_confirm_type': 'single image expert consensus', 'melanocytic': True, 'sex': 'male'}\n",
            "5900 {'age_approx': 10, 'benign_malignant': 'benign', 'diagnosis': 'nevus', 'diagnosis_confirm_type': 'single image expert consensus', 'melanocytic': True, 'sex': 'female'}\n",
            "6000 {'age_approx': 15, 'benign_malignant': 'benign', 'diagnosis': 'nevus', 'diagnosis_confirm_type': 'single image expert consensus', 'melanocytic': True, 'sex': 'male'}\n",
            "6100 {'age_approx': 15, 'benign_malignant': 'benign', 'diagnosis': 'nevus', 'diagnosis_confirm_type': 'single image expert consensus', 'melanocytic': True, 'sex': 'male'}\n",
            "6200 {'age_approx': 15, 'benign_malignant': 'benign', 'diagnosis': 'nevus', 'diagnosis_confirm_type': 'single image expert consensus', 'melanocytic': True, 'sex': 'male'}\n",
            "6300 {'age_approx': 15, 'benign_malignant': 'benign', 'diagnosis': 'nevus', 'diagnosis_confirm_type': 'single image expert consensus', 'melanocytic': True, 'sex': 'male'}\n",
            "6400 {'age_approx': 15, 'benign_malignant': 'benign', 'diagnosis': 'nevus', 'diagnosis_confirm_type': 'single image expert consensus', 'melanocytic': True, 'sex': 'male'}\n",
            "6500 {'age_approx': 15, 'benign_malignant': 'benign', 'diagnosis': 'nevus', 'diagnosis_confirm_type': 'single image expert consensus', 'melanocytic': True, 'sex': 'male'}\n",
            "6600 {'age_approx': 10, 'benign_malignant': 'benign', 'diagnosis': 'nevus', 'diagnosis_confirm_type': 'single image expert consensus', 'melanocytic': True, 'sex': 'female'}\n"
          ],
          "name": "stdout"
        }
      ]
    }
  ]
}