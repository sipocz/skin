{
  "nbformat": 4,
  "nbformat_minor": 0,
  "metadata": {
    "colab": {
      "name": "Create_JPG_Database.ipynb",
      "provenance": [],
      "collapsed_sections": [],
      "include_colab_link": true
    },
    "kernelspec": {
      "name": "python3",
      "display_name": "Python 3"
    }
  },
  "cells": [
    {
      "cell_type": "markdown",
      "metadata": {
        "id": "view-in-github",
        "colab_type": "text"
      },
      "source": [
        "<a href=\"https://colab.research.google.com/github/sipocz/skin/blob/master/Create_JPG_Database.ipynb\" target=\"_parent\"><img src=\"https://colab.research.google.com/assets/colab-badge.svg\" alt=\"Open In Colab\"/></a>"
      ]
    },
    {
      "cell_type": "code",
      "metadata": {
        "id": "mC_nKKOKRcJL",
        "colab_type": "code",
        "outputId": "6a5dacb8-7176-4377-9344-581516e62e40",
        "colab": {
          "base_uri": "https://localhost:8080/",
          "height": 34
        }
      },
      "source": [
        "from google.colab import drive\n",
        "drive.mount('/content/drive',force_remount=True)"
      ],
      "execution_count": 7,
      "outputs": [
        {
          "output_type": "stream",
          "text": [
            "Mounted at /content/drive\n"
          ],
          "name": "stdout"
        }
      ]
    },
    {
      "cell_type": "code",
      "metadata": {
        "id": "Qut3oNAER5FZ",
        "colab_type": "code",
        "colab": {}
      },
      "source": [
        "openfile=open('/content/drive/My Drive/skin/lista.txt')\n",
        "i=0\n",
        "pictable=[]\n",
        "for line in openfile:\n",
        "    i+=1\n",
        "    line=line.strip()\n",
        "    picdata=line.split(\",\")\n",
        "    pictable.append(picdata)\n",
        "    #print(i,\" \")\n"
      ],
      "execution_count": 0,
      "outputs": []
    },
    {
      "cell_type": "code",
      "metadata": {
        "id": "1V-fE0JzU0_U",
        "colab_type": "code",
        "outputId": "62eaa64f-8502-4e07-a947-638c245d67a0",
        "colab": {
          "base_uri": "https://localhost:8080/",
          "height": 51
        }
      },
      "source": [
        "print(pictable[0]) \n",
        "print(pictable[1]) \n"
      ],
      "execution_count": 9,
      "outputs": [
        {
          "output_type": "stream",
          "text": [
            "['5436e3abbae478396759f0cf', 'ISIC_0000000']\n",
            "['5436e3acbae478396759f0d1', 'ISIC_0000001']\n"
          ],
          "name": "stdout"
        }
      ]
    },
    {
      "cell_type": "code",
      "metadata": {
        "id": "ZpAAhrV0XVtb",
        "colab_type": "code",
        "outputId": "d73dbcb8-4925-461f-8a70-a52e38387691",
        "colab": {
          "base_uri": "https://localhost:8080/",
          "height": 1000
        }
      },
      "source": [
        "\n",
        "import urllib.request\n",
        "import json\n",
        "\n",
        "piclist=\"/content/drive/My Drive/skin/jpg/\"\n",
        "fname0=\"/content/drive/My Drive/skin/desc/\"\n",
        "i=0\n",
        "alldata=[]\n",
        "for rec in pictable:\n",
        "    #print(i)\n",
        "    fname=fname0+rec[0]+\".txt\"\n",
        "    txtID=rec[0]\n",
        "    jsonfile=open(fname)\n",
        "    #print(jsonfile)\n",
        "    a=jsonfile.read()\n",
        "    #print(a)\n",
        "    jsontab=json.loads(\"[\"+a+\"]\")\n",
        "    #print(jsontab)\n",
        "    \n",
        "    try:\n",
        "        clinical=jsontab[0]['meta']['clinical']\n",
        "        diag=jsontab[0]['meta']['clinical']['diagnosis']\n",
        "        confirm=jsontab[0]['meta']['clinical']['diagnosis_confirm_type']\n",
        "        melanocytic=jsontab[0]['meta']['clinical']['melanocytic']\n",
        "    except:\n",
        "        print(i,\" Error....................\")\n",
        "    #print(\"'id':'\"+txtID+\"','diag':\",diag,\"'confirm':\",confirm,\"'melanocytic':\",melanocytic)\n",
        "    else:\n",
        "        alldata.append(clinical)\n",
        "    finally:\n",
        "        i+=1\n",
        "        if i%100==0:\n",
        "            print(i,clinical)"
      ],
      "execution_count": 0,
      "outputs": [
        {
          "output_type": "stream",
          "text": [
            "0 {'age_approx': 55, 'anatom_site_general': 'anterior torso', 'benign_malignant': 'benign', 'diagnosis': 'nevus', 'diagnosis_confirm_type': None, 'melanocytic': True, 'sex': 'female'}\n",
            "100 {'age_approx': None, 'benign_malignant': 'benign', 'diagnosis': 'nevus', 'diagnosis_confirm_type': None, 'melanocytic': True, 'sex': None}\n",
            "200 {'age_approx': 50, 'anatom_site_general': 'lower extremity', 'benign_malignant': 'benign', 'diagnosis': 'nevus', 'diagnosis_confirm_type': None, 'melanocytic': True, 'sex': 'female'}\n",
            "300 {'age_approx': 60, 'anatom_site_general': 'lower extremity', 'benign_malignant': 'malignant', 'diagnosis': 'melanoma', 'diagnosis_confirm_type': 'histopathology', 'melanocytic': True, 'sex': 'female'}\n",
            "400 {'age_approx': None, 'benign_malignant': 'malignant', 'diagnosis': 'melanoma', 'diagnosis_confirm_type': 'histopathology', 'melanocytic': True, 'sex': None}\n",
            "500 {'age_approx': None, 'anatom_site_general': 'posterior torso', 'benign_malignant': 'benign', 'diagnosis': 'nevus', 'diagnosis_confirm_type': None, 'melanocytic': True, 'sex': None}\n",
            "600 {'age_approx': 15, 'benign_malignant': 'benign', 'diagnosis': 'nevus', 'diagnosis_confirm_type': 'single image expert consensus', 'melanocytic': True, 'sex': 'female'}\n",
            "700 {'age_approx': 15, 'benign_malignant': 'benign', 'diagnosis': 'nevus', 'diagnosis_confirm_type': 'single image expert consensus', 'melanocytic': True, 'sex': 'female'}\n",
            "800 {'age_approx': 15, 'benign_malignant': 'benign', 'diagnosis': 'nevus', 'diagnosis_confirm_type': 'single image expert consensus', 'melanocytic': True, 'sex': 'female'}\n",
            "900 {'age_approx': 15, 'benign_malignant': 'benign', 'diagnosis': 'nevus', 'diagnosis_confirm_type': 'single image expert consensus', 'melanocytic': True, 'sex': 'female'}\n",
            "1000 {'age_approx': 15, 'benign_malignant': 'benign', 'diagnosis': 'nevus', 'diagnosis_confirm_type': 'single image expert consensus', 'melanocytic': True, 'sex': 'female'}\n",
            "1100 {'age_approx': 85, 'anatom_site_general': 'upper extremity', 'benign_malignant': 'malignant', 'diagnosis': 'melanoma', 'diagnosis_confirm_type': 'histopathology', 'melanocytic': True, 'sex': 'male'}\n",
            "1200 {'age_approx': 15, 'benign_malignant': 'benign', 'diagnosis': 'nevus', 'diagnosis_confirm_type': 'single image expert consensus', 'melanocytic': True, 'sex': 'female'}\n",
            "1300 {'age_approx': 15, 'benign_malignant': 'benign', 'diagnosis': 'nevus', 'diagnosis_confirm_type': 'single image expert consensus', 'melanocytic': True, 'sex': 'male'}\n",
            "1400 {'age_approx': 15, 'benign_malignant': 'benign', 'diagnosis': 'nevus', 'diagnosis_confirm_type': 'single image expert consensus', 'melanocytic': True, 'sex': 'female'}\n",
            "1500 {'age_approx': 15, 'benign_malignant': 'benign', 'diagnosis': 'nevus', 'diagnosis_confirm_type': 'single image expert consensus', 'melanocytic': True, 'sex': 'female'}\n",
            "1600 {'age_approx': 15, 'benign_malignant': 'benign', 'diagnosis': 'nevus', 'diagnosis_confirm_type': 'single image expert consensus', 'melanocytic': True, 'sex': 'male'}\n",
            "1700 {'age_approx': 15, 'benign_malignant': 'benign', 'diagnosis': 'nevus', 'diagnosis_confirm_type': 'single image expert consensus', 'melanocytic': True, 'sex': 'female'}\n",
            "1800 {'age_approx': 15, 'benign_malignant': 'benign', 'diagnosis': 'nevus', 'diagnosis_confirm_type': 'single image expert consensus', 'melanocytic': True, 'sex': 'female'}\n",
            "1900 {'age_approx': 15, 'benign_malignant': 'benign', 'diagnosis': 'nevus', 'diagnosis_confirm_type': 'single image expert consensus', 'melanocytic': True, 'sex': 'male'}\n",
            "2000 {'age_approx': 10, 'benign_malignant': 'benign', 'diagnosis': 'nevus', 'diagnosis_confirm_type': 'single image expert consensus', 'melanocytic': True, 'sex': 'male'}\n",
            "2100 {'age_approx': 15, 'benign_malignant': 'benign', 'diagnosis': 'nevus', 'diagnosis_confirm_type': 'single image expert consensus', 'melanocytic': True, 'sex': 'male'}\n",
            "2200 {'age_approx': 15, 'benign_malignant': 'benign', 'diagnosis': 'nevus', 'diagnosis_confirm_type': 'single image expert consensus', 'melanocytic': True, 'sex': 'male'}\n",
            "2300 {'age_approx': 15, 'benign_malignant': 'benign', 'diagnosis': 'nevus', 'diagnosis_confirm_type': 'single image expert consensus', 'melanocytic': True, 'sex': 'female'}\n",
            "2400 {'age_approx': 10, 'benign_malignant': 'benign', 'diagnosis': 'nevus', 'diagnosis_confirm_type': 'single image expert consensus', 'melanocytic': True, 'sex': 'female'}\n",
            "2500 {'age_approx': 15, 'benign_malignant': 'benign', 'diagnosis': 'nevus', 'diagnosis_confirm_type': 'single image expert consensus', 'melanocytic': True, 'sex': 'female'}\n",
            "2600 {'age_approx': 15, 'benign_malignant': 'benign', 'diagnosis': 'nevus', 'diagnosis_confirm_type': 'single image expert consensus', 'melanocytic': True, 'sex': 'male'}\n",
            "2700 {'age_approx': 15, 'benign_malignant': 'benign', 'diagnosis': 'nevus', 'diagnosis_confirm_type': 'single image expert consensus', 'melanocytic': True, 'sex': 'female'}\n",
            "2800 {'age_approx': 15, 'benign_malignant': 'benign', 'diagnosis': 'nevus', 'diagnosis_confirm_type': 'single image expert consensus', 'melanocytic': True, 'sex': 'male'}\n",
            "2900 {'age_approx': 15, 'benign_malignant': 'benign', 'diagnosis': 'nevus', 'diagnosis_confirm_type': 'single image expert consensus', 'melanocytic': True, 'sex': 'male'}\n",
            "3000 {'age_approx': 15, 'benign_malignant': 'benign', 'diagnosis': 'nevus', 'diagnosis_confirm_type': 'single image expert consensus', 'melanocytic': True, 'sex': 'female'}\n",
            "3100 {'age_approx': 15, 'benign_malignant': 'benign', 'diagnosis': 'nevus', 'diagnosis_confirm_type': 'single image expert consensus', 'melanocytic': True, 'sex': 'male'}\n",
            "3200 {'age_approx': 15, 'benign_malignant': 'benign', 'diagnosis': 'nevus', 'diagnosis_confirm_type': 'single image expert consensus', 'melanocytic': True, 'sex': 'male'}\n",
            "3300 {'age_approx': 15, 'benign_malignant': 'benign', 'diagnosis': 'nevus', 'diagnosis_confirm_type': 'single image expert consensus', 'melanocytic': True, 'sex': 'male'}\n",
            "3400 {'age_approx': 15, 'benign_malignant': 'benign', 'diagnosis': 'nevus', 'diagnosis_confirm_type': 'single image expert consensus', 'melanocytic': True, 'sex': 'male'}\n",
            "3500 {'age_approx': 15, 'benign_malignant': 'benign', 'diagnosis': 'nevus', 'diagnosis_confirm_type': 'single image expert consensus', 'melanocytic': True, 'sex': 'female'}\n",
            "3600 {'age_approx': 15, 'benign_malignant': 'benign', 'diagnosis': 'nevus', 'diagnosis_confirm_type': 'single image expert consensus', 'melanocytic': True, 'sex': 'female'}\n",
            "3700 {'age_approx': 15, 'benign_malignant': 'benign', 'diagnosis': 'nevus', 'diagnosis_confirm_type': 'single image expert consensus', 'melanocytic': True, 'sex': 'female'}\n",
            "3800 {'age_approx': 10, 'benign_malignant': 'benign', 'diagnosis': 'nevus', 'diagnosis_confirm_type': 'single image expert consensus', 'melanocytic': True, 'sex': 'male'}\n",
            "3900 {'age_approx': 15, 'benign_malignant': 'benign', 'diagnosis': 'nevus', 'diagnosis_confirm_type': 'single image expert consensus', 'melanocytic': True, 'sex': 'male'}\n",
            "4000 {'age_approx': 15, 'benign_malignant': 'benign', 'diagnosis': 'nevus', 'diagnosis_confirm_type': 'single image expert consensus', 'melanocytic': True, 'sex': 'male'}\n",
            "4100 {'age_approx': 15, 'benign_malignant': 'benign', 'diagnosis': 'nevus', 'diagnosis_confirm_type': 'single image expert consensus', 'melanocytic': True, 'sex': 'male'}\n",
            "4200 {'age_approx': 15, 'benign_malignant': 'benign', 'diagnosis': 'nevus', 'diagnosis_confirm_type': 'single image expert consensus', 'melanocytic': True, 'sex': 'female'}\n",
            "4300 {'age_approx': 15, 'benign_malignant': 'benign', 'diagnosis': 'nevus', 'diagnosis_confirm_type': 'single image expert consensus', 'melanocytic': True, 'sex': 'female'}\n",
            "4400 {'age_approx': 15, 'benign_malignant': 'benign', 'diagnosis': 'nevus', 'diagnosis_confirm_type': 'single image expert consensus', 'melanocytic': True, 'sex': 'female'}\n",
            "4500 {'age_approx': 10, 'benign_malignant': 'benign', 'diagnosis': 'nevus', 'diagnosis_confirm_type': 'single image expert consensus', 'melanocytic': True, 'sex': 'male'}\n",
            "4600 {'age_approx': 10, 'benign_malignant': 'benign', 'diagnosis': 'nevus', 'diagnosis_confirm_type': 'single image expert consensus', 'melanocytic': True, 'sex': 'male'}\n",
            "4700 {'age_approx': 15, 'benign_malignant': 'benign', 'diagnosis': 'nevus', 'diagnosis_confirm_type': 'single image expert consensus', 'melanocytic': True, 'sex': 'male'}\n",
            "4800 {'age_approx': 15, 'benign_malignant': 'benign', 'diagnosis': 'nevus', 'diagnosis_confirm_type': 'single image expert consensus', 'melanocytic': True, 'sex': 'male'}\n",
            "4900 {'age_approx': 15, 'benign_malignant': 'benign', 'diagnosis': 'nevus', 'diagnosis_confirm_type': 'single image expert consensus', 'melanocytic': True, 'sex': 'female'}\n",
            "5000 {'age_approx': 15, 'benign_malignant': 'benign', 'diagnosis': 'nevus', 'diagnosis_confirm_type': 'single image expert consensus', 'melanocytic': True, 'sex': 'female'}\n",
            "5100 {'age_approx': 10, 'benign_malignant': 'benign', 'diagnosis': 'nevus', 'diagnosis_confirm_type': 'single image expert consensus', 'melanocytic': True, 'sex': 'female'}\n",
            "5200 {'age_approx': 15, 'benign_malignant': 'benign', 'diagnosis': 'nevus', 'diagnosis_confirm_type': 'single image expert consensus', 'melanocytic': True, 'sex': 'male'}\n"
          ],
          "name": "stdout"
        },
        {
          "output_type": "error",
          "ename": "KeyboardInterrupt",
          "evalue": "ignored",
          "traceback": [
            "\u001b[0;31m---------------------------------------------------------------------------\u001b[0m",
            "\u001b[0;31mKeyboardInterrupt\u001b[0m                         Traceback (most recent call last)",
            "\u001b[0;32m<ipython-input-6-49cf18be3cac>\u001b[0m in \u001b[0;36m<module>\u001b[0;34m()\u001b[0m\n\u001b[1;32m     12\u001b[0m     \u001b[0mjsonfile\u001b[0m\u001b[0;34m=\u001b[0m\u001b[0mopen\u001b[0m\u001b[0;34m(\u001b[0m\u001b[0mfname\u001b[0m\u001b[0;34m)\u001b[0m\u001b[0;34m\u001b[0m\u001b[0;34m\u001b[0m\u001b[0m\n\u001b[1;32m     13\u001b[0m     \u001b[0;31m#print(jsonfile)\u001b[0m\u001b[0;34m\u001b[0m\u001b[0;34m\u001b[0m\u001b[0;34m\u001b[0m\u001b[0m\n\u001b[0;32m---> 14\u001b[0;31m     \u001b[0ma\u001b[0m\u001b[0;34m=\u001b[0m\u001b[0mjsonfile\u001b[0m\u001b[0;34m.\u001b[0m\u001b[0mread\u001b[0m\u001b[0;34m(\u001b[0m\u001b[0;34m)\u001b[0m\u001b[0;34m\u001b[0m\u001b[0;34m\u001b[0m\u001b[0m\n\u001b[0m\u001b[1;32m     15\u001b[0m     \u001b[0;31m#print(a)\u001b[0m\u001b[0;34m\u001b[0m\u001b[0;34m\u001b[0m\u001b[0;34m\u001b[0m\u001b[0m\n\u001b[1;32m     16\u001b[0m     \u001b[0mjsontab\u001b[0m\u001b[0;34m=\u001b[0m\u001b[0mjson\u001b[0m\u001b[0;34m.\u001b[0m\u001b[0mloads\u001b[0m\u001b[0;34m(\u001b[0m\u001b[0;34m\"[\"\u001b[0m\u001b[0;34m+\u001b[0m\u001b[0ma\u001b[0m\u001b[0;34m+\u001b[0m\u001b[0;34m\"]\"\u001b[0m\u001b[0;34m)\u001b[0m\u001b[0;34m\u001b[0m\u001b[0;34m\u001b[0m\u001b[0m\n",
            "\u001b[0;32m/usr/lib/python3.6/codecs.py\u001b[0m in \u001b[0;36mdecode\u001b[0;34m(self, input, final)\u001b[0m\n\u001b[1;32m    316\u001b[0m         \u001b[0;32mraise\u001b[0m \u001b[0mNotImplementedError\u001b[0m\u001b[0;34m\u001b[0m\u001b[0;34m\u001b[0m\u001b[0m\n\u001b[1;32m    317\u001b[0m \u001b[0;34m\u001b[0m\u001b[0m\n\u001b[0;32m--> 318\u001b[0;31m     \u001b[0;32mdef\u001b[0m \u001b[0mdecode\u001b[0m\u001b[0;34m(\u001b[0m\u001b[0mself\u001b[0m\u001b[0;34m,\u001b[0m \u001b[0minput\u001b[0m\u001b[0;34m,\u001b[0m \u001b[0mfinal\u001b[0m\u001b[0;34m=\u001b[0m\u001b[0;32mFalse\u001b[0m\u001b[0;34m)\u001b[0m\u001b[0;34m:\u001b[0m\u001b[0;34m\u001b[0m\u001b[0;34m\u001b[0m\u001b[0m\n\u001b[0m\u001b[1;32m    319\u001b[0m         \u001b[0;31m# decode input (taking the buffer into account)\u001b[0m\u001b[0;34m\u001b[0m\u001b[0;34m\u001b[0m\u001b[0;34m\u001b[0m\u001b[0m\n\u001b[1;32m    320\u001b[0m         \u001b[0mdata\u001b[0m \u001b[0;34m=\u001b[0m \u001b[0mself\u001b[0m\u001b[0;34m.\u001b[0m\u001b[0mbuffer\u001b[0m \u001b[0;34m+\u001b[0m \u001b[0minput\u001b[0m\u001b[0;34m\u001b[0m\u001b[0;34m\u001b[0m\u001b[0m\n",
            "\u001b[0;31mKeyboardInterrupt\u001b[0m: "
          ]
        }
      ]
    }
  ]
}