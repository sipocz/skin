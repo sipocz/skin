{
  "nbformat": 4,
  "nbformat_minor": 0,
  "metadata": {
    "colab": {
      "name": "Create_JPG_Database.ipynb",
      "provenance": [],
      "collapsed_sections": [],
      "include_colab_link": true
    },
    "kernelspec": {
      "name": "python3",
      "display_name": "Python 3"
    }
  },
  "cells": [
    {
      "cell_type": "markdown",
      "metadata": {
        "id": "view-in-github",
        "colab_type": "text"
      },
      "source": [
        "<a href=\"https://colab.research.google.com/github/sipocz/skin/blob/master/Create_JPG_Database.ipynb\" target=\"_parent\"><img src=\"https://colab.research.google.com/assets/colab-badge.svg\" alt=\"Open In Colab\"/></a>"
      ]
    },
    {
      "cell_type": "code",
      "metadata": {
        "id": "mC_nKKOKRcJL",
        "colab_type": "code",
        "outputId": "6a5dacb8-7176-4377-9344-581516e62e40",
        "colab": {
          "base_uri": "https://localhost:8080/",
          "height": 34
        }
      },
      "source": [
        "from google.colab import drive\n",
        "drive.mount('/content/drive',force_remount=True)"
      ],
      "execution_count": 7,
      "outputs": [
        {
          "output_type": "stream",
          "text": [
            "Mounted at /content/drive\n"
          ],
          "name": "stdout"
        }
      ]
    },
    {
      "cell_type": "code",
      "metadata": {
        "id": "Qut3oNAER5FZ",
        "colab_type": "code",
        "colab": {}
      },
      "source": [
        "openfile=open('/content/drive/My Drive/skin/lista.txt')\n",
        "i=0\n",
        "pictable=[]\n",
        "for line in openfile:\n",
        "    i+=1\n",
        "    line=line.strip()\n",
        "    picdata=line.split(\",\")\n",
        "    pictable.append(picdata)\n",
        "    #print(i,\" \")\n"
      ],
      "execution_count": 0,
      "outputs": []
    },
    {
      "cell_type": "code",
      "metadata": {
        "id": "1V-fE0JzU0_U",
        "colab_type": "code",
        "outputId": "62eaa64f-8502-4e07-a947-638c245d67a0",
        "colab": {
          "base_uri": "https://localhost:8080/",
          "height": 51
        }
      },
      "source": [
        "print(pictable[0]) \n",
        "print(pictable[1]) \n"
      ],
      "execution_count": 9,
      "outputs": [
        {
          "output_type": "stream",
          "text": [
            "['5436e3abbae478396759f0cf', 'ISIC_0000000']\n",
            "['5436e3acbae478396759f0d1', 'ISIC_0000001']\n"
          ],
          "name": "stdout"
        }
      ]
    },
    {
      "cell_type": "code",
      "metadata": {
        "id": "ZpAAhrV0XVtb",
        "colab_type": "code",
        "colab": {}
      },
      "source": [
        "\n",
        "import urllib.request\n",
        "import json\n",
        "\n",
        "piclist=\"/content/drive/My Drive/skin/jpg/\"\n",
        "fname0=\"/content/drive/My Drive/skin/desc/\"\n",
        "i=0\n",
        "alldata=[]\n",
        "for rec in pictable:\n",
        "    #print(i)\n",
        "    fname=fname0+rec[0]+\".txt\"\n",
        "    txtID=rec[0]\n",
        "    try:\n",
        "        jsonfile=open(fname)\n",
        "    except:\n",
        "        print(\"file not found:\",fname)\n",
        "    else:\n",
        "        #print(jsonfile)\n",
        "        a=jsonfile.read()\n",
        "        #print(a)\n",
        "        jsontab=json.loads(\"[\"+a+\"]\")\n",
        "        #print(jsontab)\n",
        "    \n",
        "        try:\n",
        "            clinical=jsontab[0]['meta']['clinical']\n",
        "            diag=jsontab[0]['meta']['clinical']['diagnosis']\n",
        "            confirm=jsontab[0]['meta']['clinical']['diagnosis_confirm_type']\n",
        "            melanocytic=jsontab[0]['meta']['clinical']['melanocytic']\n",
        "        except:\n",
        "            print(i,\" Error....................\")\n",
        "            #print(\"'id':'\"+txtID+\"','diag':\",diag,\"'confirm':\",confirm,\"'melanocytic':\",melanocytic)\n",
        "        else:\n",
        "            crec=[fname,clinical]\n",
        "            alldata.append(crec)\n",
        "        finally:\n",
        "            i+=1\n",
        "            if i%100==0:\n",
        "                print(i,crec)\n"
      ],
      "execution_count": 0,
      "outputs": []
    },
    {
      "cell_type": "code",
      "metadata": {
        "id": "JjhHYYAPVQh8",
        "colab_type": "code",
        "colab": {
          "base_uri": "https://localhost:8080/",
          "height": 34
        },
        "outputId": "4d24ec68-c93e-4d9e-893b-b8ae3d8a97ee"
      },
      "source": [
        "print(alldata[100])"
      ],
      "execution_count": 14,
      "outputs": [
        {
          "output_type": "stream",
          "text": [
            "{'age_approx': None, 'benign_malignant': 'benign', 'diagnosis': 'nevus', 'diagnosis_confirm_type': None, 'melanocytic': True, 'sex': None}\n"
          ],
          "name": "stdout"
        }
      ]
    },
    {
      "cell_type": "code",
      "metadata": {
        "id": "UHVdOHj-VmEb",
        "colab_type": "code",
        "colab": {}
      },
      "source": [
        "f=open(\"/content/drive/My Drive/skin/alldata.txt\",\"w\")\n",
        "for rec in alldata:\n",
        "    f.write(\"[\"+str(rec)+\"]\"+\"\\n\")\n",
        "f.close()\n"
      ],
      "execution_count": 0,
      "outputs": []
    }
  ]
}